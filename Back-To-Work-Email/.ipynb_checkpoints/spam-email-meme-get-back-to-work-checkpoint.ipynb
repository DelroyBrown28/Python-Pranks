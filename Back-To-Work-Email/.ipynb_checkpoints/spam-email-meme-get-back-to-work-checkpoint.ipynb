{
 "cells": [
  {
   "cell_type": "markdown",
   "metadata": {},
   "source": [
    "# Python Prank\n",
    "## _Spam your co-workers with repeated meme emails_"
   ]
  },
  {
   "cell_type": "markdown",
   "metadata": {},
   "source": [
    "**This is a FUN prank to pull on your friends...** if they have a sense of humor! This script will send a random meme to your list of contacts every 60 seconds for as many iterations as you select.\n",
    "\n",
    "Use the images that I've selected, or add your own. All you need to do is run this script in the same location as another folder called 'img' that contains the images that you would like to attach to the email."
   ]
  },
  {
   "cell_type": "markdown",
   "metadata": {},
   "source": [
    "**Here's an example** of what you can expect"
   ]
  },
  {
   "cell_type": "markdown",
   "metadata": {},
   "source": [
    "![image](example.PNG)"
   ]
  },
  {
   "cell_type": "markdown",
   "metadata": {},
   "source": [
    "### import project libraries"
   ]
  },
  {
   "cell_type": "code",
   "execution_count": null,
   "metadata": {},
   "outputs": [],
   "source": [
    "import os\n",
    "import smtplib\n",
    "import random\n",
    "import time\n",
    "from email.message import EmailMessage\n",
    "from email.mime.multipart import MIMEMultipart\n",
    "from email.mime.text import MIMEText\n",
    "from email.mime.image import MIMEImage"
   ]
  },
  {
   "cell_type": "markdown",
   "metadata": {},
   "source": [
    "### setup server authentication"
   ]
  },
  {
   "cell_type": "code",
   "execution_count": null,
   "metadata": {},
   "outputs": [],
   "source": [
    "username = 'user.name@gmail.com'\n",
    "password = 'pas$w0rd'\n",
    "fr_address = 'me@gmail.com'\n",
    "to_address = 'you1@gmail.com, you2@gmail.com, you3@gmail.com'\n",
    "smtp_host = 'smtp.gmail.com'"
   ]
  },
  {
   "cell_type": "markdown",
   "metadata": {},
   "source": [
    "### setup message"
   ]
  },
  {
   "cell_type": "code",
   "execution_count": null,
   "metadata": {},
   "outputs": [],
   "source": [
    "subject = 'Get BACK to WORK!!'\n",
    "message = 'What do you think you\\'re doing?'\n",
    "num_of_msg = 10 "
   ]
  },
  {
   "cell_type": "markdown",
   "metadata": {},
   "source": [
    "### create and send the message"
   ]
  },
  {
   "cell_type": "code",
   "execution_count": null,
   "metadata": {},
   "outputs": [],
   "source": [
    "# get a list of all images in the img directory\n",
    "memes = os.listdir('img')\n",
    "\n",
    "# reference the image in the IMG SRC attribute by the ID we give it below\n",
    "msgText = MIMEText(f'<b><i>{message}</i></b><br><br><img src=\"cid:image1\">', 'html')\n",
    "\n",
    "for i in range(num_of_msg):\n",
    "    \n",
    "    # random number generator for meme selection\n",
    "    rand_num = random.randint(0,len(memes)-1)\n",
    "    attachment = 'img/' + memes[rand_num]\n",
    "\n",
    "    # create the message and fill in the from, to, and subject headers\n",
    "    msg = MIMEMultipart('related')\n",
    "    msg['From'] = fr_address\n",
    "    msg['To'] = to_address\n",
    "    msg['Subject'] = subject\n",
    "    msg.attach(msgText)\n",
    "\n",
    "    # open the attachment chosen above\n",
    "    with open(attachment, 'rb') as img:\n",
    "        msgImage = MIMEImage(img.read())\n",
    "\n",
    "    # define the image's ID as referenced above\n",
    "    msgImage.add_header('Content-ID', '<image1>')\n",
    "    msg.attach(msgImage)\n",
    "\n",
    "    # send the email\n",
    "    server = smtplib.SMTP(host=smtp_host, port=587)\n",
    "    server.starttls()\n",
    "    server.login(username, password)\n",
    "    server.send_message(msg)\n",
    "    server.close()\n",
    "    \n",
    "    # wait 60 seconds before looping\n",
    "    time.sleep(60)"
   ]
  },
  {
   "cell_type": "markdown",
   "metadata": {},
   "source": [
    "## pro tip for connecting to gmail\n",
    "Gmail has locked things down pretty good with what it considers \"less secure\" apps. That would include access your Gmail account from the `smtplib` library in Python. However, there is a work around. You can enable access from \"Less Secure Apps\" by going to your Gmail account and enabling that feature. However, you should do this at your own peril, and after carefully reading the warnings from the link below:\n",
    "https://support.google.com/accounts/answer/6010255"
   ]
  },
  {
   "cell_type": "markdown",
   "metadata": {},
   "source": [
    "## references\n",
    "- Email examples and libraries: https://docs.python.org/3.7/library/email.examples.html\n",
    "- time.sleep(): https://docs.python.org/3.7/library/time.html#time.sleep\n",
    "- random.randint(): https://docs.python.org/3/library/random.html#random.randint\n",
    "- os.listdir(): https://docs.python.org/3/library/os.html#os.listdir"
   ]
  }
 ],
 "metadata": {
  "kernelspec": {
   "display_name": "Python 3",
   "language": "python",
   "name": "python3"
  },
  "language_info": {
   "codemirror_mode": {
    "name": "ipython",
    "version": 3
   },
   "file_extension": ".py",
   "mimetype": "text/x-python",
   "name": "python",
   "nbconvert_exporter": "python",
   "pygments_lexer": "ipython3",
   "version": "3.7.3"
  }
 },
 "nbformat": 4,
 "nbformat_minor": 2
}
