{
 "cells": [
  {
   "cell_type": "markdown",
   "metadata": {},
   "source": [
    "# Python Prank\n",
    "## _spam your co-workers with repeat meme emails_"
   ]
  },
  {
   "cell_type": "markdown",
   "metadata": {},
   "source": [
    "**This is a fun prank** to pull on your friends, if they have a sense of humor! This script will send a random meme to a list of recipients every 60 seconds for as many times as you indicate.  \n",
    "\n",
    "Use the images that I've selected, or add your own. All you need to do to add your own images is to run this script in the same location as a folder called 'img', which should contain your images.  \n",
    "\n",
    "If you don't want to use Jupyter, you can also [download the Python script](https://github.com/israel-dryer/Python-Pranks/blob/8fe413931d277f81abdf30ecfcb084e12f64614a/Back-To-Work-Email/spam-email-meme-get-back-to-work.py) and run it straight from your IDLE or command prompt.  \n",
    "\n",
    "**Here's an example** of what you can expect:"
   ]
  },
  {
   "cell_type": "markdown",
   "metadata": {},
   "source": [
    "![image](example.PNG)"
   ]
  },
  {
   "cell_type": "markdown",
   "metadata": {},
   "source": [
    "### import project libraries"
   ]
  },
  {
   "cell_type": "code",
   "execution_count": null,
   "metadata": {},
   "outputs": [],
   "source": [
    "import os # used to locate the image files\n",
    "import random # used to generate a random number for pulling an image from the list\n",
    "import time # used to create a delay between sending emails\n",
    "import smtplib as smtp # used for actually sending the email\n",
    "\n",
    "# used for building the email message\n",
    "from email.mime.multipart import MIMEMultipart\n",
    "from email.mime.text import MIMEText\n",
    "from email.mime.image import MIMEImage"
   ]
  },
  {
   "cell_type": "markdown",
   "metadata": {},
   "source": [
    "### setup server authentication variables"
   ]
  },
  {
   "cell_type": "code",
   "execution_count": null,
   "metadata": {},
   "outputs": [],
   "source": [
    "user = 'user@gmail.com'\n",
    "password = 'pas$w0rd'\n",
    "fr_address = 'me@gmail.com'\n",
    "to_address = 'you1@gmail.com, you2@gmail.com, you3@gmail.com, you4@gmail.com'\n",
    "smtp_host = 'smtp.gmail.com'"
   ]
  },
  {
   "cell_type": "markdown",
   "metadata": {},
   "source": [
    "### setup email variables"
   ]
  },
  {
   "cell_type": "code",
   "execution_count": null,
   "metadata": {},
   "outputs": [],
   "source": [
    "subject = 'Get back to WORK!!'\n",
    "msg_text = 'what do you think you\\'re doing?'\n",
    "msg_count = 20"
   ]
  },
  {
   "cell_type": "markdown",
   "metadata": {},
   "source": [
    "### create email message"
   ]
  },
  {
   "cell_type": "code",
   "execution_count": null,
   "metadata": {},
   "outputs": [],
   "source": [
    "# get a list of all messages in the image directory\n",
    "memes = os.listdir('img')"
   ]
  },
  {
   "cell_type": "code",
   "execution_count": null,
   "metadata": {},
   "outputs": [],
   "source": [
    "# create the multipart email message and add from ,to, and subject headers\n",
    "msg = MIMEMultipart()\n",
    "msg['From'] = fr_address\n",
    "msg['To'] = to_address\n",
    "msg['Subject'] = subject\n",
    "\n",
    "# create an html message with a reference to the image source attribute referenced below\n",
    "body = MIMEText(f'<b><i>{msg_text}</b></i><br><br><img src=\"cid:myimage\"/>','html')\n",
    "\n",
    "# open a connection to the email server\n",
    "server = smtp.SMTP(host=smtp_host, port=587)\n",
    "server.starttls()\n",
    "server.login(user=user, password=password)\n",
    "\n",
    "# create and send the message\n",
    "for i in range(msg_count):\n",
    "    \n",
    "    # open a random image from the image directory\n",
    "    rnd_image = memes[random.randint(0,len(memes)-1)]\n",
    "    with open(f'img/{rnd_image}','rb') as f:\n",
    "        msg_image = MIMEImage(f.read())\n",
    "\n",
    "    # create the message content ID referenced above\n",
    "    msg_image.add_header('Content-ID','myimage')\n",
    "\n",
    "    # set the message payload\n",
    "    '''\n",
    "    We can't use the MIMEText.attach() method here otherwise it will add additional parts\n",
    "    each consecutive email. Using the MIMEText.set_payload() method basically resets this \n",
    "    each time\n",
    "    '''\n",
    "    msg.set_payload([body, msg_image])\n",
    "\n",
    "    # open the email server and send the message\n",
    "    server.send_message(msg)\n",
    "    \n",
    "    # delay the next message by 60 seconds... you can change this if you want\n",
    "    time.sleep(60)\n",
    "\n",
    "server.close()"
   ]
  },
  {
   "cell_type": "markdown",
   "metadata": {},
   "source": [
    "### pro tip for connecting to gmail\n",
    "Gmail has locked things down pretty good with what it considers \"less secure\" apps. That would include access your Gmail account from the smtplib library in Python. However, there is a work around. You can enable access from \"Less Secure Apps\" by going to your Gmail account and enabling that feature. However, you should do this at your own peril, and after carefully reading the warnings from the link below: https://support.google.com/accounts/answer/6010255"
   ]
  },
  {
   "cell_type": "markdown",
   "metadata": {},
   "source": [
    "### references\n",
    "- **smtplib:** https://docs.python.org/3/library/smtplib.html#module-smtplib\n",
    "- **email.meme.multipart:** https://docs.python.org/3.7/library/email.mime.html#email.mime.multipart.MIMEMultipart\n",
    "- **email.meme.text:** https://docs.python.org/3.7/library/email.mime.html#email.mime.text.MIMEText\n",
    "- **email.meme.image:** https://docs.python.org/3.7/library/email.mime.html#email.mime.image.MIMEImage\n",
    "- **time.sleep:** https://docs.python.org/3.7/library/time.html#time.sleep\n",
    "- **random.randint:** https://docs.python.org/3/library/random.html#random.randint\n",
    "- **os.listdir:** https://docs.python.org/3/library/os.html#os.listdir\n",
    "- **email examples:** https://docs.python.org/3.7/library/email.examples.html"
   ]
  }
 ],
 "metadata": {
  "kernelspec": {
   "display_name": "Python 3",
   "language": "python",
   "name": "python3"
  },
  "language_info": {
   "codemirror_mode": {
    "name": "ipython",
    "version": 3
   },
   "file_extension": ".py",
   "mimetype": "text/x-python",
   "name": "python",
   "nbconvert_exporter": "python",
   "pygments_lexer": "ipython3",
   "version": "3.7.3"
  }
 },
 "nbformat": 4,
 "nbformat_minor": 2
}
