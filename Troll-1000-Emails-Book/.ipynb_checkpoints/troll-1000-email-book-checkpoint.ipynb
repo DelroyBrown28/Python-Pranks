{
 "cells": [
  {
   "cell_type": "markdown",
   "metadata": {},
   "source": [
    "# Python Prank | Troll your friends with a 1,000 emails\n",
    "\n",
    "## overview\n",
    "In this notebook we are going to **create a simple plain-text email** from the text of the book _War and Peace_, which isn't the longest book by a stretch, but I'm still going to get at least **500+ words per email**. If this process runs smoothly, you will be sending a batch of 50 emails every minute for **10 minutes**.   \n",
    "\n",
    "Some of the things that we will do today are:\n",
    "- download and split a text file\n",
    "- create a plain-text email message\n",
    "- open and close an email server connection\n",
    "- create a time-delayed loop\n",
    "- create a subject line that changes with each email"
   ]
  },
  {
   "cell_type": "markdown",
   "metadata": {},
   "source": [
    "Here is an **example of what you can expect** with this script\n",
    "![image](img/example-output.PNG)"
   ]
  },
  {
   "cell_type": "code",
   "execution_count": 1,
   "metadata": {},
   "outputs": [],
   "source": [
    "# used to get book data from website\n",
    "import requests \n",
    "# used to calculate words per message\n",
    "from math import floor \n",
    "# used to create delay in loop\n",
    "import time \n",
    "# used for sending the email\n",
    "import smtplib  as smtp \n",
    "# used to build the email\n",
    "from email.message import EmailMessage "
   ]
  },
  {
   "cell_type": "markdown",
   "metadata": {},
   "source": [
    "## import the book data for **War & Peace**"
   ]
  },
  {
   "cell_type": "markdown",
   "metadata": {},
   "source": [
    "**Send a request** to download the book from the Gutenberg library website"
   ]
  },
  {
   "cell_type": "code",
   "execution_count": 2,
   "metadata": {},
   "outputs": [],
   "source": [
    "book_url = 'https://www.gutenberg.org/files/2600/2600-0.txt'\n",
    "r = requests.get(book_url)"
   ]
  },
  {
   "cell_type": "markdown",
   "metadata": {},
   "source": [
    "**Remove a few ascii characters** that are causing problems in the decoding process. Since this just a hack-email, I do not need the decoding to be 100% correct for every single character."
   ]
  },
  {
   "cell_type": "code",
   "execution_count": 3,
   "metadata": {},
   "outputs": [],
   "source": [
    "book_data = r.text.encode('ascii', 'ignore').decode('ascii')"
   ]
  },
  {
   "cell_type": "markdown",
   "metadata": {},
   "source": [
    "**Split the words** of each book into a list of words"
   ]
  },
  {
   "cell_type": "code",
   "execution_count": 4,
   "metadata": {},
   "outputs": [],
   "source": [
    "word_list = book_data.split(\" \")"
   ]
  },
  {
   "cell_type": "markdown",
   "metadata": {},
   "source": [
    "**Determine the message size** of each email, and then the size of the residual email"
   ]
  },
  {
   "cell_type": "code",
   "execution_count": 5,
   "metadata": {},
   "outputs": [
    {
     "name": "stdout",
     "output_type": "stream",
     "text": [
      "Words per message: 517\n",
      "Final message size: 541\n"
     ]
    }
   ],
   "source": [
    "msg_size = floor(len(word_list) / 1000)\n",
    "final_msg_size = len(word_list) - (msg_size * 999)\n",
    "\n",
    "print(f\"Words per message: {msg_size}\\nFinal message size: {final_msg_size}\")"
   ]
  },
  {
   "cell_type": "markdown",
   "metadata": {},
   "source": [
    "## setup server authentication variables\n",
    "These variables will be used to create the email server connection and from, to headers. Your username may be different from your email address, but probably not.  \n",
    "\n",
    "SMTP servers that I've used include: \n",
    "- smtp.gmail.com (port 587)\n",
    "- smtp.office365.com (port 587)\n",
    "- smtp.mail.yahoo.com (port 587 or 465)"
   ]
  },
  {
   "cell_type": "code",
   "execution_count": 6,
   "metadata": {},
   "outputs": [],
   "source": [
    "user = 'me@gmail.com'\n",
    "password = 'pass@ord'\n",
    "fr_address = 'me@gmail.com'\n",
    "to_address = 'you@gmail.com,you2@gmail.com,you3@gmail.com'\n",
    "smtp_host = 'smtp.gmail.com' \n",
    "smtp_port = 587"
   ]
  },
  {
   "cell_type": "markdown",
   "metadata": {},
   "source": [
    "## setup email variables"
   ]
  },
  {
   "cell_type": "code",
   "execution_count": 7,
   "metadata": {},
   "outputs": [],
   "source": [
    "subject = 'War & Peace - Part '\n",
    "msg_text = ''\n",
    "start_pos = 0\n",
    "msg_count = 0"
   ]
  },
  {
   "cell_type": "markdown",
   "metadata": {},
   "source": [
    "## create and send email"
   ]
  },
  {
   "cell_type": "markdown",
   "metadata": {},
   "source": [
    "**Open a connection** to the email server, then **create and send** the email message)"
   ]
  },
  {
   "cell_type": "code",
   "execution_count": null,
   "metadata": {},
   "outputs": [],
   "source": [
    "# separate into chunks of 50 emails in order to avoid sending limits\n",
    "for b in range(20):\n",
    "    \n",
    "    # open the email server connection\n",
    "    server = smtp.SMTP(host=smtp_host, port=smtp_port)\n",
    "    server.starttls()\n",
    "    server.login(user=user, password=password)\n",
    "\n",
    "    # create and send the message\n",
    "    for i in range(50):\n",
    "        # check to see if this is the final message, which has a slightly different range\n",
    "        if msg_count == 1000:\n",
    "            start_pos = (len(word_list)-final_msg_size)\n",
    "            msg_text = ' '.join(word_list[start_pos:])\n",
    "        else:\n",
    "            start_pos = msg_count * msg_size\n",
    "            msg_text = ' '.join(word_list[start_pos:start_pos + msg_size])\n",
    "\n",
    "        # create the email message headers and set the payload\n",
    "        msg = EmailMessage()\n",
    "        msg['From'] = fr_address\n",
    "        msg['To'] = to_address\n",
    "        msg['Subject'] = subject + str(msg_count+1)\n",
    "        msg.set_payload(msg_text)\n",
    "\n",
    "        msg_count += 1\n",
    "        \n",
    "        # open the email server and send the message\n",
    "        server.send_message(msg)\n",
    "\n",
    "        ''' delay each email by 1/2 second to space out the distribution\n",
    "            this 1/2 second delay may cause the emails to be delivered out-of-order\n",
    "            when some are slightly larger than others.\n",
    "        '''\n",
    "        time.sleep(0.5)\n",
    "      \n",
    "    # delay each batch by 60 seconds to avoid sending limits\n",
    "    time.sleep(60)\n",
    "    \n",
    "    server.close()"
   ]
  },
  {
   "cell_type": "markdown",
   "metadata": {},
   "source": [
    "## important notes about using gmail"
   ]
  },
  {
   "cell_type": "markdown",
   "metadata": {},
   "source": [
    "- Gmail has locked things down pretty good with what it considers **less secure apps**. That would include access your Gmail account from the smtplib library in Python. However, there is a work around. You can enable access from \"Less Secure Apps\" by going to your Gmail account and enabling that feature. However, you should do this at your own peril, and after carefully **[reading the warnings](https://support.google.com/accounts/answer/6010255)**.\n",
    "\n",
    "- Gmail has **[sending limits](https://support.google.com/a/answer/166852?hl=en)** which you should check out before you start this as it could lock you out from sending email for 24 hours if you hit the caps."
   ]
  },
  {
   "cell_type": "markdown",
   "metadata": {},
   "source": [
    "![image](img/user_daily_quota.PNG)"
   ]
  },
  {
   "cell_type": "markdown",
   "metadata": {},
   "source": [
    "## references\n",
    "\n",
    "Requests: HTTP for Humans | https://2.python-requests.org/en/master/   \n",
    "math.floor() | https://docs.python.org/3/library/math.html#math.floor   \n",
    "time.sleep() | https://docs.python.org/3/library/time.html#time.sleep   \n",
    "smtplib | https://docs.python.org/3/library/smtplib.html?#module-smtplib   \n",
    "email.message | https://docs.python.org/3/library/email.message.html?#module-email.message   \n",
    "email examples in Python | https://docs.python.org/3.7/library/email.examples.html  "
   ]
  }
 ],
 "metadata": {
  "kernelspec": {
   "display_name": "Python 3",
   "language": "python",
   "name": "python3"
  },
  "language_info": {
   "codemirror_mode": {
    "name": "ipython",
    "version": 3
   },
   "file_extension": ".py",
   "mimetype": "text/x-python",
   "name": "python",
   "nbconvert_exporter": "python",
   "pygments_lexer": "ipython3",
   "version": "3.7.3"
  }
 },
 "nbformat": 4,
 "nbformat_minor": 2
}
