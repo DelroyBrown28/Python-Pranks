{
 "cells": [
  {
   "cell_type": "markdown",
   "metadata": {},
   "source": [
    "# Python Prank\n",
    "**Spam your friends** with 1,000 emails containing one of the _top 10 longest books ever written_"
   ]
  },
  {
   "cell_type": "code",
   "execution_count": 24,
   "metadata": {},
   "outputs": [],
   "source": [
    "import requests # used to get book data from website\n",
    "from math import floor # used to calculate words per message\n",
    "import smtplib  as smtp# used for sending emails\n",
    "\n",
    "# used for building the email message\n",
    "from email.mime.multipart import MIMEMultipart\n",
    "from email.mime.text import MIMEText\n",
    "\n",
    "import time # used to create delay in loop"
   ]
  },
  {
   "cell_type": "markdown",
   "metadata": {},
   "source": [
    "## import the book data for **Clarissa**"
   ]
  },
  {
   "cell_type": "code",
   "execution_count": 25,
   "metadata": {},
   "outputs": [],
   "source": [
    "book_data = ''\n",
    "book_vols = ['http://www.gutenberg.org/cache/epub/9296/pg9296.txt',\n",
    "             'http://www.gutenberg.org/cache/epub/9798/pg9798.txt',\n",
    "             'http://www.gutenberg.org/cache/epub/9881/pg9881.txt',\n",
    "             'http://www.gutenberg.org/cache/epub/10462/pg10462.txt',\n",
    "             'http://www.gutenberg.org/cache/epub/10799/pg10799.txt',\n",
    "             'http://www.gutenberg.org/cache/epub/11364/pg11364.txt',\n",
    "             'http://www.gutenberg.org/cache/epub/11889/pg11889.txt',\n",
    "             'http://www.gutenberg.org/cache/epub/12180/pg12180.txt',\n",
    "             'http://www.gutenberg.org/cache/epub/12398/pg12398.txt']\n",
    "\n",
    "for vol in book_vols:\n",
    "    r = requests.get(vol)\n",
    "    r.encoding = r.apparent_encoding\n",
    "    book_data += r.text"
   ]
  },
  {
   "cell_type": "code",
   "execution_count": 26,
   "metadata": {},
   "outputs": [],
   "source": [
    "word_list = book_data.split(\" \")"
   ]
  },
  {
   "cell_type": "code",
   "execution_count": 27,
   "metadata": {},
   "outputs": [
    {
     "name": "stdout",
     "output_type": "stream",
     "text": [
      "Words per message: 927\n",
      "Final message size: 921\n"
     ]
    }
   ],
   "source": [
    "msg_size = floor(len(word_list) / 1000) + 1\n",
    "final_msg_size = (msg_size * 1000) - len(word_list)\n",
    "print(f\"Words per message: {msg_size}\\nFinal message size: {final_msg_size}\")"
   ]
  },
  {
   "cell_type": "markdown",
   "metadata": {},
   "source": [
    "## setup server authentication variables"
   ]
  },
  {
   "cell_type": "code",
   "execution_count": 28,
   "metadata": {},
   "outputs": [],
   "source": [
    "user = 'israel.dryer@gmail.com'\n",
    "password = 'Abigail8'\n",
    "fr_address = 'israel.dryer@gmail.com'\n",
    "to_address = 'israel.dryer@gmail.com'\n",
    "smtp_host = 'smtp.gmail.com'"
   ]
  },
  {
   "cell_type": "markdown",
   "metadata": {},
   "source": [
    "## setup email variables"
   ]
  },
  {
   "cell_type": "code",
   "execution_count": 33,
   "metadata": {},
   "outputs": [],
   "source": [
    "subject = 'Clarissa - Part '\n",
    "msg_text = ''"
   ]
  },
  {
   "cell_type": "markdown",
   "metadata": {},
   "source": [
    "## create and send email"
   ]
  },
  {
   "cell_type": "code",
   "execution_count": 50,
   "metadata": {},
   "outputs": [],
   "source": [
    "# open a connection to the email server\n",
    "server = smtp.SMTP(host=smtp_host, port=587)\n",
    "server.starttls()\n",
    "server.login(user=user, password=password)\n",
    "\n",
    "# create and send the message\n",
    "for i in range(10):\n",
    "    if i == 1000:\n",
    "        msg_text = ' '.join(word_list[(len(word_list)-final_msg_size):])\n",
    "    else:\n",
    "        msg_text = ' '.join(word_list[(i * msg_size):((i+1) * msg_size)])\n",
    "\n",
    "    # create the multipart email message and add from ,to, and subject headers\n",
    "    msg = MIMEMultipart()\n",
    "    msg['From'] = fr_address\n",
    "    msg['To'] = to_address\n",
    "    msg['Subject'] = subject + str(i+1)\n",
    "    msg.set_payload(MIMEText(msg_text))\n",
    "\n",
    "    # open the email server and send the message\n",
    "    server.send_message(msg)\n",
    "    \n",
    "    # delay the next message by 5 seconds... you can change this if you want\n",
    "    time.sleep(1)\n",
    "\n",
    "server.close()"
   ]
  }
 ],
 "metadata": {
  "kernelspec": {
   "display_name": "Python 3",
   "language": "python",
   "name": "python3"
  },
  "language_info": {
   "codemirror_mode": {
    "name": "ipython",
    "version": 3
   },
   "file_extension": ".py",
   "mimetype": "text/x-python",
   "name": "python",
   "nbconvert_exporter": "python",
   "pygments_lexer": "ipython3",
   "version": "3.7.3"
  }
 },
 "nbformat": 4,
 "nbformat_minor": 2
}
